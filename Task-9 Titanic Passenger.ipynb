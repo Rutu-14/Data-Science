{
 "cells": [
  {
   "cell_type": "code",
   "execution_count": 1,
   "id": "746cafe1-88c2-4be7-8acf-6cd16bcfa4fb",
   "metadata": {},
   "outputs": [],
   "source": [
    "#Programmer Rutuja Jagtap\n",
    "# Keystone School of Engineering\n",
    "# Class:TE(COMP)-A\n",
    "#Roll no:26"
   ]
  },
  {
   "cell_type": "code",
   "execution_count": 2,
   "id": "4958ca24-7674-4bc9-bacb-a3da4fb8d295",
   "metadata": {},
   "outputs": [],
   "source": [
    "import pandas as pd\n",
    "import numpy as np\n",
    "import seaborn as sns\n",
    "import matplotlib.pyplot as plt"
   ]
  },
  {
   "cell_type": "code",
   "execution_count": 3,
   "id": "64a40656-2445-4458-8dc6-da4263219775",
   "metadata": {},
   "outputs": [
    {
     "data": {
      "text/html": [
       "<div>\n",
       "<style scoped>\n",
       "    .dataframe tbody tr th:only-of-type {\n",
       "        vertical-align: middle;\n",
       "    }\n",
       "\n",
       "    .dataframe tbody tr th {\n",
       "        vertical-align: top;\n",
       "    }\n",
       "\n",
       "    .dataframe thead th {\n",
       "        text-align: right;\n",
       "    }\n",
       "</style>\n",
       "<table border=\"1\" class=\"dataframe\">\n",
       "  <thead>\n",
       "    <tr style=\"text-align: right;\">\n",
       "      <th></th>\n",
       "      <th>PassengerId</th>\n",
       "      <th>Survived</th>\n",
       "      <th>Pclass</th>\n",
       "      <th>Surname</th>\n",
       "      <th>Name</th>\n",
       "      <th>Sex</th>\n",
       "      <th>Age</th>\n",
       "      <th>SibSp</th>\n",
       "      <th>Parch</th>\n",
       "      <th>Ticket</th>\n",
       "      <th>Fare</th>\n",
       "      <th>Cabin</th>\n",
       "      <th>Embarked</th>\n",
       "    </tr>\n",
       "  </thead>\n",
       "  <tbody>\n",
       "    <tr>\n",
       "      <th>0</th>\n",
       "      <td>1</td>\n",
       "      <td>0</td>\n",
       "      <td>3</td>\n",
       "      <td>Braund, Mr. Owen Harris</td>\n",
       "      <td>male</td>\n",
       "      <td>22.0</td>\n",
       "      <td>1</td>\n",
       "      <td>0</td>\n",
       "      <td>A/5 21171</td>\n",
       "      <td>7.2500</td>\n",
       "      <td>NaN</td>\n",
       "      <td>S</td>\n",
       "      <td>NaN</td>\n",
       "    </tr>\n",
       "    <tr>\n",
       "      <th>1</th>\n",
       "      <td>2</td>\n",
       "      <td>1</td>\n",
       "      <td>1</td>\n",
       "      <td>Cumings, Mrs. John Bradley (Florence Briggs Th...</td>\n",
       "      <td>female</td>\n",
       "      <td>38.0</td>\n",
       "      <td>1</td>\n",
       "      <td>0</td>\n",
       "      <td>PC 17599</td>\n",
       "      <td>71.2833</td>\n",
       "      <td>C85</td>\n",
       "      <td>C</td>\n",
       "      <td>NaN</td>\n",
       "    </tr>\n",
       "    <tr>\n",
       "      <th>2</th>\n",
       "      <td>3</td>\n",
       "      <td>1</td>\n",
       "      <td>3</td>\n",
       "      <td>Heikkinen, Miss. Laina</td>\n",
       "      <td>female</td>\n",
       "      <td>26.0</td>\n",
       "      <td>0</td>\n",
       "      <td>0</td>\n",
       "      <td>STON/O2. 3101282</td>\n",
       "      <td>7.9250</td>\n",
       "      <td>NaN</td>\n",
       "      <td>S</td>\n",
       "      <td>NaN</td>\n",
       "    </tr>\n",
       "    <tr>\n",
       "      <th>3</th>\n",
       "      <td>4</td>\n",
       "      <td>1</td>\n",
       "      <td>1</td>\n",
       "      <td>Futrelle, Mrs. Jacques Heath (Lily May Peel)</td>\n",
       "      <td>female</td>\n",
       "      <td>35.0</td>\n",
       "      <td>1</td>\n",
       "      <td>0</td>\n",
       "      <td>113803</td>\n",
       "      <td>53.1000</td>\n",
       "      <td>C123</td>\n",
       "      <td>S</td>\n",
       "      <td>NaN</td>\n",
       "    </tr>\n",
       "    <tr>\n",
       "      <th>4</th>\n",
       "      <td>5</td>\n",
       "      <td>0</td>\n",
       "      <td>3</td>\n",
       "      <td>Allen, Mr. William Henry</td>\n",
       "      <td>male</td>\n",
       "      <td>35.0</td>\n",
       "      <td>0</td>\n",
       "      <td>0</td>\n",
       "      <td>373450</td>\n",
       "      <td>8.0500</td>\n",
       "      <td>NaN</td>\n",
       "      <td>S</td>\n",
       "      <td>NaN</td>\n",
       "    </tr>\n",
       "  </tbody>\n",
       "</table>\n",
       "</div>"
      ],
      "text/plain": [
       "   PassengerId  Survived  Pclass  \\\n",
       "0            1         0       3   \n",
       "1            2         1       1   \n",
       "2            3         1       3   \n",
       "3            4         1       1   \n",
       "4            5         0       3   \n",
       "\n",
       "                                             Surname    Name   Sex  Age  \\\n",
       "0                            Braund, Mr. Owen Harris    male  22.0    1   \n",
       "1  Cumings, Mrs. John Bradley (Florence Briggs Th...  female  38.0    1   \n",
       "2                             Heikkinen, Miss. Laina  female  26.0    0   \n",
       "3       Futrelle, Mrs. Jacques Heath (Lily May Peel)  female  35.0    1   \n",
       "4                           Allen, Mr. William Henry    male  35.0    0   \n",
       "\n",
       "   SibSp             Parch   Ticket  Fare Cabin  Embarked  \n",
       "0      0         A/5 21171   7.2500   NaN     S       NaN  \n",
       "1      0          PC 17599  71.2833   C85     C       NaN  \n",
       "2      0  STON/O2. 3101282   7.9250   NaN     S       NaN  \n",
       "3      0            113803  53.1000  C123     S       NaN  \n",
       "4      0            373450   8.0500   NaN     S       NaN  "
      ]
     },
     "execution_count": 3,
     "metadata": {},
     "output_type": "execute_result"
    }
   ],
   "source": [
    "df=pd.read_csv('titanic_data.csv')\n",
    "df.head()"
   ]
  },
  {
   "cell_type": "code",
   "execution_count": 4,
   "id": "dc93ba19-ca20-4a9d-878a-b4561a1a84e3",
   "metadata": {},
   "outputs": [
    {
     "name": "stdout",
     "output_type": "stream",
     "text": [
      "name of female passenger who survived 1      Cumings, Mrs. John Bradley (Florence Briggs Th...\n",
      "2                                 Heikkinen, Miss. Laina\n",
      "3           Futrelle, Mrs. Jacques Heath (Lily May Peel)\n",
      "8      Johnson, Mrs. Oscar W (Elisabeth Vilhelmina Berg)\n",
      "9                    Nasser, Mrs. Nicholas (Adele Achem)\n",
      "                             ...                        \n",
      "874                Abelson, Mrs. Samuel (Hannah Wizosky)\n",
      "875                     Najib, Miss. Adele Kiamie \"Jane\"\n",
      "879        Potter, Mrs. Thomas Jr (Lily Alexenia Wilson)\n",
      "880         Shelley, Mrs. William (Imanita Parrish Hall)\n",
      "887                         Graham, Miss. Margaret Edith\n",
      "Name: Surname, Length: 233, dtype: object\n"
     ]
    }
   ],
   "source": [
    "#print name of female passenger who survived\n",
    "Female_survived=df[(df['Name']=='female')& (df['Survived']==1)]\n",
    "print(\"name of female passenger who survived\",Female_survived['Surname'])"
   ]
  },
  {
   "cell_type": "code",
   "execution_count": 5,
   "id": "ce29bf5f-db54-4cab-bc5b-fcc793f72839",
   "metadata": {},
   "outputs": [
    {
     "name": "stdout",
     "output_type": "stream",
     "text": [
      "name of passenger who were children 305             Allison, Master. Hudson Trevor\n",
      "68             Andersson, Miss. Erna Alexandra\n",
      "261          Asplund, Master. Edvin Rojj Felix\n",
      "233             Asplund, Miss. Lillian Gertrud\n",
      "780                       Ayoub, Miss. Banoura\n",
      "                        ...                   \n",
      "550                Thayer, Mr. John Borland Jr\n",
      "803            Thomas, Master. Assad Alexander\n",
      "750                          Wells, Miss. Joan\n",
      "58                West, Miss. Constance Mirium\n",
      "830    Yasbeck, Mrs. Antoni (Selini Alexander)\n",
      "Name: Surname, Length: 61, dtype: object\n"
     ]
    }
   ],
   "source": [
    "#sort and print name of passenger who were children\n",
    "sort_passenger=df[(df['Sex']<18)&(df['Survived']==1)].sort_values(by='Surname')\n",
    "print(\"name of passenger who were children\",sort_passenger['Surname'])"
   ]
  },
  {
   "cell_type": "code",
   "execution_count": 6,
   "id": "c6e31192-34d3-4d1f-8c2f-7dab407fa311",
   "metadata": {},
   "outputs": [
    {
     "name": "stdout",
     "output_type": "stream",
     "text": [
      "passenger embarked from Southamoton 644\n"
     ]
    }
   ],
   "source": [
    "#how many passenger embarked from Southamoton\n",
    "print(\"passenger embarked from Southamoton\",df[df['Cabin']=='S'].shape[0])"
   ]
  },
  {
   "cell_type": "code",
   "execution_count": 7,
   "id": "f6187d01-447e-4bd5-b5cd-d5c0872451bd",
   "metadata": {},
   "outputs": [
    {
     "name": "stdout",
     "output_type": "stream",
     "text": [
      "name and age of passengers (non-null values) who embarked from Cherbourg                                                Surname   Sex\n",
      "1    Cumings, Mrs. John Bradley (Florence Briggs Th...  38.0\n",
      "9                  Nasser, Mrs. Nicholas (Adele Achem)  14.0\n",
      "30                            Uruchurtu, Don. Manuel E  40.0\n",
      "34                             Meyer, Mr. Edgar Joseph  28.0\n",
      "39                         Nicola-Yarred, Miss. Jamila  14.0\n",
      "..                                                 ...   ...\n",
      "866                       Duran y More, Miss. Asuncion  27.0\n",
      "874              Abelson, Mrs. Samuel (Hannah Wizosky)  28.0\n",
      "875                   Najib, Miss. Adele Kiamie \"Jane\"  15.0\n",
      "879      Potter, Mrs. Thomas Jr (Lily Alexenia Wilson)  56.0\n",
      "889                              Behr, Mr. Karl Howell  26.0\n",
      "\n",
      "[130 rows x 2 columns]\n"
     ]
    }
   ],
   "source": [
    "#Print the name and age of passengers (non-null values) who embarked from Cherbourg\n",
    "cherbourg_passenger=df[df['Cabin']=='C']\n",
    "print(\"name and age of passengers (non-null values) who embarked from Cherbourg\",cherbourg_passenger[['Surname','Sex']].dropna())"
   ]
  },
  {
   "cell_type": "code",
   "execution_count": 8,
   "id": "efab8852-1f3d-4365-a8d1-04869268fa7c",
   "metadata": {},
   "outputs": [
    {
     "name": "stdout",
     "output_type": "stream",
     "text": [
      "passengers had siblings or spouses aboard 283\n"
     ]
    }
   ],
   "source": [
    "#How many passengers had siblings or spouses aboard\n",
    "print(\"passengers had siblings or spouses aboard\",df[df['Age']>0].shape[0])"
   ]
  },
  {
   "cell_type": "code",
   "execution_count": 9,
   "id": "2cc66acd-d3e2-45e1-8fbe-f41bcfeb548c",
   "metadata": {},
   "outputs": [
    {
     "name": "stdout",
     "output_type": "stream",
     "text": [
      "passengers paid a fare greater than $100 53\n"
     ]
    }
   ],
   "source": [
    "#How many passengers paid a fare greater than $100\n",
    "print(\"passengers paid a fare greater than $100\",df[df['Ticket']>100].shape[0])"
   ]
  },
  {
   "cell_type": "code",
   "execution_count": 10,
   "id": "7979c9db-aefe-4ef0-8794-911092c4351d",
   "metadata": {},
   "outputs": [
    {
     "name": "stdout",
     "output_type": "stream",
     "text": [
      "names of passengers with the title Dr.  47                           O'Driscoll, Miss. Bridget\n",
      "130                               Drazenoic, Mr. Jozef\n",
      "245                        Minahan, Dr. William Edward\n",
      "317                               Moraweck, Dr. Ernest\n",
      "398                                   Pain, Dr. Alfred\n",
      "416    Drew, Mrs. James Vivian (Lulu Thorne Christian)\n",
      "632                          Stahelin-Maeglin, Dr. Max\n",
      "660                      Frauenthal, Dr. Henry William\n",
      "679                 Cardeza, Mr. Thomas Drake Martinez\n",
      "766                          Brewe, Dr. Arthur Jackson\n",
      "796                        Leader, Dr. Alice (Farnham)\n",
      "Name: Surname, dtype: object\n"
     ]
    }
   ],
   "source": [
    "#Print the names of passengers with the title \"Dr.\"\n",
    "Name_passenger=df[df['Surname'].str.contains('Dr')]\n",
    "print(\"names of passengers with the title Dr. \",Name_passenger['Surname'])"
   ]
  },
  {
   "cell_type": "code",
   "execution_count": 11,
   "id": "02dc8cef-ae1a-4857-aefc-f72102acfda9",
   "metadata": {},
   "outputs": [],
   "source": [
    "x=df['Cabin'].value_counts()\n",
    "y=df['Cabin']"
   ]
  },
  {
   "cell_type": "code",
   "execution_count": 12,
   "id": "1712c857-7be7-42aa-bfab-cf71a28740a5",
   "metadata": {},
   "outputs": [
    {
     "data": {
      "image/png": "[encoded data removed]",
      "text/plain": [
       "<Figure size 640x480 with 1 Axes>"
      ]
     },
     "metadata": {},
     "output_type": "display_data"
    }
   ],
   "source": [
    "#Plot the count of passengers by their embarkation port\n",
    "plt.title('Passengers by Embarkation Port')\n",
    "plt.xlabel('Embarkation Port')\n",
    "plt.ylabel('Number of Passengers')\n",
    "passengers_by_cabin = df['Cabin'].value_counts()\n",
    "passengers_by_cabin.plot(kind='bar')\n",
    "plt.show();"
   ]
  },
  {
   "cell_type": "code",
   "execution_count": null,
   "id": "7922dc3d-593a-4957-aaa5-888a8919dc03",
   "metadata": {},
   "outputs": [],
   "source": []
  }
 ],
 "metadata": {
  "kernelspec": {
   "display_name": "Python 3 (ipykernel)",
   "language": "python",
   "name": "python3"
  },
  "language_info": {
   "codemirror_mode": {
    "name": "ipython",
    "version": 3
   },
   "file_extension": ".py",
   "mimetype": "text/x-python",
   "name": "python",
   "nbconvert_exporter": "python",
   "pygments_lexer": "ipython3",
   "version": "3.11.7"
  }
 },
 "nbformat": 4,
 "nbformat_minor": 5
}
